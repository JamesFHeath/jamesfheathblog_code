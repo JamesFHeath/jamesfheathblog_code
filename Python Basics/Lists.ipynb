{
 "cells": [
  {
   "cell_type": "code",
   "execution_count": null,
   "metadata": {},
   "outputs": [],
   "source": [
    "# x is a list of length 3, with two ints and a string\n",
    "x = [1, 2, 'hello']\n",
    "# y is a list of length 0, the empty list\n",
    "y = []"
   ]
  },
  {
   "cell_type": "code",
   "execution_count": null,
   "metadata": {},
   "outputs": [],
   "source": [
    "# z_error will generate a syntax error, because two integers and a string are not an iterable\n",
    "z_error = list(1, 2, 'hello')"
   ]
  },
  {
   "cell_type": "code",
   "execution_count": null,
   "metadata": {},
   "outputs": [],
   "source": [
    "# Iterables can be any sequence that implements iterable\n",
    "z_from_x = list(x)\n",
    "z_from_brackets = list([1, 2, 'hello'])"
   ]
  },
  {
   "cell_type": "code",
   "execution_count": null,
   "metadata": {},
   "outputs": [],
   "source": [
    "# Even range will work!\n",
    "z_from_range = list(range(10))"
   ]
  },
  {
   "cell_type": "code",
   "execution_count": null,
   "metadata": {},
   "outputs": [],
   "source": [
    "# Empty list can be created too\n",
    "z_from_y = list(y)\n",
    "z_from_no_args = list()"
   ]
  },
  {
   "cell_type": "code",
   "execution_count": null,
   "metadata": {},
   "outputs": [],
   "source": [
    "# Here we take the numbers 0..9 from range(10) and square them to get a new list\n",
    "zero_to_nine_squared = [x**2 for x in range(10)]"
   ]
  },
  {
   "cell_type": "code",
   "execution_count": null,
   "metadata": {},
   "outputs": [],
   "source": [
    "# We can use any function in place of the exponential function, this function just ignores x and returns all 1s\n",
    "ten_ones = [(lambda x : 1)(x) for x in range(10)]"
   ]
  },
  {
   "cell_type": "code",
   "execution_count": null,
   "metadata": {},
   "outputs": [],
   "source": [
    "index_list = [1, 2, 3, 4, 5]\n",
    "# First value is 1\n",
    "value_of_one = index_list[0]\n",
    "# A slice can be a bit confusing, 1 refers to 2, and it creates a slice up to but not including index 4.\n",
    "# One way of remember this is to start at the first value, and generate a list of 4 -1 = 3\n",
    "list_from_2_to_4 = index_list[1:4]"
   ]
  },
  {
   "cell_type": "code",
   "execution_count": null,
   "metadata": {},
   "outputs": [],
   "source": [
    "mutate_by_index = [1, 2, 3, 4, 5]\n",
    "mutate_by_index[0] = 77"
   ]
  },
  {
   "cell_type": "code",
   "execution_count": null,
   "metadata": {},
   "outputs": [],
   "source": [
    "append_list = [1, 2, 3]\n",
    "append_list.append(4)\n",
    "append_list.extend([5, 6, 7])"
   ]
  },
  {
   "cell_type": "code",
   "execution_count": null,
   "metadata": {},
   "outputs": [],
   "source": [
    "my_list = [1, 7, 'goodbye']\n",
    "len(my_list)"
   ]
  },
  {
   "cell_type": "code",
   "execution_count": null,
   "metadata": {},
   "outputs": [],
   "source": [
    "search_value = 'SearingFrost'\n",
    "search_value in ['SearingFrost', 'NotSearingFrost', 1, 2, 3]"
   ]
  },
  {
   "cell_type": "code",
   "execution_count": null,
   "metadata": {},
   "outputs": [],
   "source": []
  }
 ],
 "metadata": {
  "kernelspec": {
   "display_name": "Python 3",
   "language": "python",
   "name": "python3"
  },
  "language_info": {
   "codemirror_mode": {
    "name": "ipython",
    "version": 3
   },
   "file_extension": ".py",
   "mimetype": "text/x-python",
   "name": "python",
   "nbconvert_exporter": "python",
   "pygments_lexer": "ipython3",
   "version": "3.8.2"
  }
 },
 "nbformat": 4,
 "nbformat_minor": 4
}
